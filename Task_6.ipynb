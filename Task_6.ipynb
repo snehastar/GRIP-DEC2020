{
  "nbformat": 4,
  "nbformat_minor": 0,
  "metadata": {
    "colab": {
      "name": "Task#6",
      "provenance": [],
      "authorship_tag": "ABX9TyOCrN/yLgUUo3wuvKCxxjAL",
      "include_colab_link": true
    },
    "kernelspec": {
      "name": "python3",
      "display_name": "Python 3"
    }
  },
  "cells": [
    {
      "cell_type": "markdown",
      "metadata": {
        "id": "view-in-github",
        "colab_type": "text"
      },
      "source": [
        "<a href=\"https://colab.research.google.com/github/snehastar/GRIP-DEC2020/blob/main/Task_6.ipynb\" target=\"_parent\"><img src=\"https://colab.research.google.com/assets/colab-badge.svg\" alt=\"Open In Colab\"/></a>"
      ]
    },
    {
      "cell_type": "markdown",
      "metadata": {
        "id": "xVXX7Xm7YOCO"
      },
      "source": [
        "#SNEHA SHUKLA\r\n",
        "The Sparks Foundation (GRIP DEC 2020) Task#6\r\n",
        "\r\n",
        "Prediction using Decision Tree Algorithm"
      ]
    },
    {
      "cell_type": "markdown",
      "metadata": {
        "id": "emn9ADHlq_cp"
      },
      "source": [
        "#Importing the libraries"
      ]
    },
    {
      "cell_type": "code",
      "metadata": {
        "id": "zGTAheoFrBUZ"
      },
      "source": [
        "import numpy as np\r\n",
        "import matplotlib.pyplot as plt\r\n",
        "import pandas as pd\r\n",
        "from sklearn import tree"
      ],
      "execution_count": 1,
      "outputs": []
    },
    {
      "cell_type": "markdown",
      "metadata": {
        "id": "r8YQ1RhsrDZ0"
      },
      "source": [
        "#Importing the dataset"
      ]
    },
    {
      "cell_type": "code",
      "metadata": {
        "id": "SrTr6S-8rG6S"
      },
      "source": [
        "dataset = pd.read_csv('Iris.csv')\r\n",
        "X = dataset.iloc[:, [1,2,3,4]].values\r\n",
        "y = dataset.iloc[:, -1].values"
      ],
      "execution_count": 2,
      "outputs": []
    },
    {
      "cell_type": "code",
      "metadata": {
        "colab": {
          "base_uri": "https://localhost:8080/",
          "height": 195
        },
        "id": "UzxksioJyHRI",
        "outputId": "c1cb29bb-a101-4a21-cadb-c88f1888380e"
      },
      "source": [
        "dataset.head()"
      ],
      "execution_count": 3,
      "outputs": [
        {
          "output_type": "execute_result",
          "data": {
            "text/html": [
              "<div>\n",
              "<style scoped>\n",
              "    .dataframe tbody tr th:only-of-type {\n",
              "        vertical-align: middle;\n",
              "    }\n",
              "\n",
              "    .dataframe tbody tr th {\n",
              "        vertical-align: top;\n",
              "    }\n",
              "\n",
              "    .dataframe thead th {\n",
              "        text-align: right;\n",
              "    }\n",
              "</style>\n",
              "<table border=\"1\" class=\"dataframe\">\n",
              "  <thead>\n",
              "    <tr style=\"text-align: right;\">\n",
              "      <th></th>\n",
              "      <th>Id</th>\n",
              "      <th>SepalLengthCm</th>\n",
              "      <th>SepalWidthCm</th>\n",
              "      <th>PetalLengthCm</th>\n",
              "      <th>PetalWidthCm</th>\n",
              "      <th>Species</th>\n",
              "    </tr>\n",
              "  </thead>\n",
              "  <tbody>\n",
              "    <tr>\n",
              "      <th>0</th>\n",
              "      <td>1</td>\n",
              "      <td>5.1</td>\n",
              "      <td>3.5</td>\n",
              "      <td>1.4</td>\n",
              "      <td>0.2</td>\n",
              "      <td>Iris-setosa</td>\n",
              "    </tr>\n",
              "    <tr>\n",
              "      <th>1</th>\n",
              "      <td>2</td>\n",
              "      <td>4.9</td>\n",
              "      <td>3.0</td>\n",
              "      <td>1.4</td>\n",
              "      <td>0.2</td>\n",
              "      <td>Iris-setosa</td>\n",
              "    </tr>\n",
              "    <tr>\n",
              "      <th>2</th>\n",
              "      <td>3</td>\n",
              "      <td>4.7</td>\n",
              "      <td>3.2</td>\n",
              "      <td>1.3</td>\n",
              "      <td>0.2</td>\n",
              "      <td>Iris-setosa</td>\n",
              "    </tr>\n",
              "    <tr>\n",
              "      <th>3</th>\n",
              "      <td>4</td>\n",
              "      <td>4.6</td>\n",
              "      <td>3.1</td>\n",
              "      <td>1.5</td>\n",
              "      <td>0.2</td>\n",
              "      <td>Iris-setosa</td>\n",
              "    </tr>\n",
              "    <tr>\n",
              "      <th>4</th>\n",
              "      <td>5</td>\n",
              "      <td>5.0</td>\n",
              "      <td>3.6</td>\n",
              "      <td>1.4</td>\n",
              "      <td>0.2</td>\n",
              "      <td>Iris-setosa</td>\n",
              "    </tr>\n",
              "  </tbody>\n",
              "</table>\n",
              "</div>"
            ],
            "text/plain": [
              "   Id  SepalLengthCm  SepalWidthCm  PetalLengthCm  PetalWidthCm      Species\n",
              "0   1            5.1           3.5            1.4           0.2  Iris-setosa\n",
              "1   2            4.9           3.0            1.4           0.2  Iris-setosa\n",
              "2   3            4.7           3.2            1.3           0.2  Iris-setosa\n",
              "3   4            4.6           3.1            1.5           0.2  Iris-setosa\n",
              "4   5            5.0           3.6            1.4           0.2  Iris-setosa"
            ]
          },
          "metadata": {
            "tags": []
          },
          "execution_count": 3
        }
      ]
    },
    {
      "cell_type": "markdown",
      "metadata": {
        "id": "pd4iVglPsa_0"
      },
      "source": [
        "#Encoding the Dependent Variable"
      ]
    },
    {
      "cell_type": "code",
      "metadata": {
        "id": "1K-xeKI8sb2_"
      },
      "source": [
        "from sklearn.preprocessing import LabelEncoder\r\n",
        "le = LabelEncoder()\r\n",
        "y = le.fit_transform(y)"
      ],
      "execution_count": 4,
      "outputs": []
    },
    {
      "cell_type": "markdown",
      "metadata": {
        "id": "iVn0N2GRrRZR"
      },
      "source": [
        "#Splitting the dataset into the Training set and Test set"
      ]
    },
    {
      "cell_type": "code",
      "metadata": {
        "id": "UHDuQe33rSj9"
      },
      "source": [
        "from sklearn.model_selection import train_test_split\r\n",
        "X_train, X_test, y_train, y_test = train_test_split(X, y, test_size = 0.25, random_state = 0)"
      ],
      "execution_count": 5,
      "outputs": []
    },
    {
      "cell_type": "markdown",
      "metadata": {
        "id": "66caeyVqrV4V"
      },
      "source": [
        "#Feature Scaling"
      ]
    },
    {
      "cell_type": "code",
      "metadata": {
        "id": "KYZiO_N7smso"
      },
      "source": [
        "from sklearn.preprocessing import StandardScaler\r\n",
        "sc = StandardScaler()\r\n",
        "X_train = sc.fit_transform(X_train)\r\n",
        "X_test = sc.transform(X_test)"
      ],
      "execution_count": 6,
      "outputs": []
    },
    {
      "cell_type": "code",
      "metadata": {
        "colab": {
          "base_uri": "https://localhost:8080/"
        },
        "id": "OVk-C0Hhsre9",
        "outputId": "beb5212c-cf9e-45db-dff9-6061adaba388"
      },
      "source": [
        "print(X_train)"
      ],
      "execution_count": 7,
      "outputs": [
        {
          "output_type": "stream",
          "text": [
            "[[ 1.54399532e-02 -1.19254753e-01  2.25126850e-01  3.56381749e-01]\n",
            " [-9.98450310e-02 -1.04039491e+00  1.13559562e-01 -2.86480506e-02]\n",
            " [ 1.05300481e+00 -1.19254753e-01  9.50314227e-01  1.12644135e+00]\n",
            " [-1.36797986e+00  3.41315328e-01 -1.39259884e+00 -1.31208072e+00]\n",
            " [ 1.16828980e+00  1.11030287e-01  7.27179649e-01  1.38312788e+00]\n",
            " [-1.02212490e+00  1.03217045e+00 -1.22524790e+00 -7.98707650e-01]\n",
            " [-5.60984968e-01  1.49274053e+00 -1.28103155e+00 -1.31208072e+00]\n",
            " [-1.02212490e+00 -2.42210516e+00 -1.65358660e-01 -2.85334584e-01]\n",
            " [ 7.07149859e-01 -1.19254753e-01  9.50314227e-01  7.41411549e-01]\n",
            " [ 9.37719827e-01  5.71600368e-01  1.06188152e+00  1.63981441e+00]\n",
            " [ 1.30724937e-01 -1.96153508e+00  6.71396005e-01  3.56381749e-01]\n",
            " [ 9.37719827e-01 -1.27067995e+00  1.11766516e+00  7.41411549e-01]\n",
            " [-3.30414999e-01 -1.27067995e+00  5.77759173e-02 -1.56991317e-01]\n",
            " [ 2.09056967e+00 -1.19254753e-01  1.28501609e+00  1.38312788e+00]\n",
            " [ 4.76579890e-01  5.71600368e-01  5.04045072e-01  4.84725016e-01]\n",
            " [-4.45699984e-01 -1.50096499e+00  1.99227301e-03 -1.56991317e-01]\n",
            " [ 4.76579890e-01 -8.10109874e-01  6.15612361e-01  7.41411549e-01]\n",
            " [ 4.76579890e-01 -5.79824834e-01  7.27179649e-01  3.56381749e-01]\n",
            " [-1.13740989e+00 -1.27067995e+00  3.92477783e-01  6.13068282e-01]\n",
            " [ 4.76579890e-01 -1.27067995e+00  6.71396005e-01  8.69754815e-01]\n",
            " [ 1.28357478e+00  3.41315328e-01  5.04045072e-01  2.28038483e-01]\n",
            " [ 7.07149859e-01 -1.19254753e-01  7.82963294e-01  9.98098082e-01]\n",
            " [ 1.30724937e-01  8.01885408e-01  3.92477783e-01  4.84725016e-01]\n",
            " [-1.25269487e+00  1.11030287e-01 -1.22524790e+00 -1.31208072e+00]\n",
            " [-9.98450310e-02 -8.10109874e-01  7.27179649e-01  8.69754815e-01]\n",
            " [-3.30414999e-01 -8.10109874e-01  2.25126850e-01  9.96952160e-02]\n",
            " [-3.30414999e-01 -3.49539793e-01 -1.09575016e-01  9.96952160e-02]\n",
            " [-4.45699984e-01 -1.27067995e+00  1.13559562e-01  9.96952160e-02]\n",
            " [ 2.46009922e-01 -1.19254753e-01  4.48261428e-01  2.28038483e-01]\n",
            " [ 1.51414475e+00  3.41315328e-01  1.22923245e+00  7.41411549e-01]\n",
            " [-6.76269952e-01  1.49274053e+00 -1.28103155e+00 -1.31208072e+00]\n",
            " [-1.82911979e+00 -1.19254753e-01 -1.50416612e+00 -1.44042398e+00]\n",
            " [ 5.91864874e-01 -8.10109874e-01  8.38746938e-01  8.69754815e-01]\n",
            " [-2.15130015e-01 -1.19254753e-01  2.25126850e-01 -2.86480506e-02]\n",
            " [-5.60984968e-01  8.01885408e-01 -1.16946426e+00 -1.31208072e+00]\n",
            " [-2.15130015e-01  3.10473581e+00 -1.28103155e+00 -1.05539418e+00]\n",
            " [ 1.16828980e+00  1.11030287e-01  6.15612361e-01  3.56381749e-01]\n",
            " [-1.48326484e+00  1.11030287e-01 -1.28103155e+00 -1.31208072e+00]\n",
            " [ 1.54399532e-02 -1.19254753e-01  7.27179649e-01  7.41411549e-01]\n",
            " [-9.06839920e-01 -1.27067995e+00 -4.44276882e-01 -1.56991317e-01]\n",
            " [-1.48326484e+00  8.01885408e-01 -1.33681519e+00 -1.18373745e+00]\n",
            " [ 3.61294906e-01 -1.96153508e+00  3.92477783e-01  3.56381749e-01]\n",
            " [ 1.51414475e+00  1.26245549e+00  1.28501609e+00  1.63981441e+00]\n",
            " [-2.15130015e-01 -3.49539793e-01  2.25126850e-01  9.96952160e-02]\n",
            " [-1.25269487e+00 -1.19254753e-01 -1.33681519e+00 -1.44042398e+00]\n",
            " [ 1.39885976e+00 -1.19254753e-01  1.17344880e+00  1.12644135e+00]\n",
            " [ 1.16828980e+00  3.41315328e-01  1.06188152e+00  1.38312788e+00]\n",
            " [ 7.07149859e-01 -1.19254753e-01  1.11766516e+00  1.25478461e+00]\n",
            " [ 5.91864874e-01 -5.79824834e-01  1.00609787e+00  1.12644135e+00]\n",
            " [-9.06839920e-01  1.72302557e+00 -1.22524790e+00 -1.31208072e+00]\n",
            " [-1.25269487e+00  8.01885408e-01 -1.22524790e+00 -1.31208072e+00]\n",
            " [ 7.07149859e-01  3.41315328e-01  7.27179649e-01  9.98098082e-01]\n",
            " [ 9.37719827e-01  5.71600368e-01  1.06188152e+00  1.12644135e+00]\n",
            " [-1.59854983e+00 -1.73125004e+00 -1.39259884e+00 -1.18373745e+00]\n",
            " [ 3.61294906e-01  8.01885408e-01  8.94530582e-01  1.38312788e+00]\n",
            " [-1.13740989e+00 -1.19254753e-01 -1.33681519e+00 -1.31208072e+00]\n",
            " [-2.15130015e-01 -1.27067995e+00  6.71396005e-01  9.98098082e-01]\n",
            " [ 1.16828980e+00  1.11030287e-01  8.94530582e-01  1.12644135e+00]\n",
            " [-1.71383481e+00  3.41315328e-01 -1.39259884e+00 -1.31208072e+00]\n",
            " [-1.02212490e+00  1.26245549e+00 -1.33681519e+00 -1.31208072e+00]\n",
            " [ 1.51414475e+00 -1.19254753e-01  1.11766516e+00  4.84725016e-01]\n",
            " [-9.06839920e-01  1.03217045e+00 -1.33681519e+00 -1.18373745e+00]\n",
            " [-1.71383481e+00 -1.19254753e-01 -1.39259884e+00 -1.31208072e+00]\n",
            " [-5.60984968e-01  1.95331061e+00 -1.16946426e+00 -1.05539418e+00]\n",
            " [-4.45699984e-01 -1.73125004e+00  1.13559562e-01  9.96952160e-02]\n",
            " [ 1.05300481e+00  3.41315328e-01  1.17344880e+00  1.38312788e+00]\n",
            " [ 1.97528468e+00 -1.19254753e-01  1.56393431e+00  1.12644135e+00]\n",
            " [-9.06839920e-01  1.03217045e+00 -1.33681519e+00 -1.31208072e+00]\n",
            " [-1.13740989e+00  1.11030287e-01 -1.28103155e+00 -1.44042398e+00]\n",
            " [-7.91554936e-01  8.01885408e-01 -1.33681519e+00 -1.31208072e+00]\n",
            " [-2.15130015e-01 -5.79824834e-01  3.92477783e-01  9.96952160e-02]\n",
            " [ 8.22434843e-01 -1.19254753e-01  3.36694139e-01  2.28038483e-01]\n",
            " [-1.02212490e+00  3.41315328e-01 -1.44838248e+00 -1.31208072e+00]\n",
            " [-9.06839920e-01  5.71600368e-01 -1.16946426e+00 -9.27050916e-01]\n",
            " [ 5.91864874e-01 -3.49539793e-01  2.80910495e-01  9.96952160e-02]\n",
            " [-5.60984968e-01  8.01885408e-01 -1.28103155e+00 -1.05539418e+00]\n",
            " [ 2.09056967e+00 -1.04039491e+00  1.73128525e+00  1.38312788e+00]\n",
            " [-1.13740989e+00 -1.50096499e+00 -2.76925949e-01 -2.85334584e-01]\n",
            " [ 2.32113964e+00  1.72302557e+00  1.45236703e+00  9.98098082e-01]\n",
            " [ 9.37719827e-01  1.11030287e-01  3.36694139e-01  2.28038483e-01]\n",
            " [-7.91554936e-01  2.41388069e+00 -1.28103155e+00 -1.44042398e+00]\n",
            " [ 1.30724937e-01 -1.19254753e-01  5.59828716e-01  7.41411549e-01]\n",
            " [-9.98450310e-02  2.18359565e+00 -1.44838248e+00 -1.31208072e+00]\n",
            " [ 2.09056967e+00 -5.79824834e-01  1.61971796e+00  9.98098082e-01]\n",
            " [-9.06839920e-01  1.72302557e+00 -1.28103155e+00 -1.18373745e+00]\n",
            " [-1.36797986e+00  3.41315328e-01 -1.22524790e+00 -1.31208072e+00]\n",
            " [ 1.74471472e+00 -5.79824834e-01  1.28501609e+00  8.69754815e-01]\n",
            " [-1.02212490e+00  5.71600368e-01 -1.33681519e+00 -1.31208072e+00]\n",
            " [ 4.76579890e-01  8.01885408e-01  1.00609787e+00  1.51147115e+00]\n",
            " [-2.15130015e-01 -5.79824834e-01  1.69343206e-01  9.96952160e-02]\n",
            " [-9.98450310e-02 -8.10109874e-01  5.77759173e-02 -2.86480506e-02]\n",
            " [-2.15130015e-01 -1.04039491e+00 -1.65358660e-01 -2.85334584e-01]\n",
            " [ 5.91864874e-01  3.41315328e-01  8.38746938e-01  1.38312788e+00]\n",
            " [ 9.37719827e-01 -1.19254753e-01  7.82963294e-01  1.38312788e+00]\n",
            " [ 4.76579890e-01 -1.27067995e+00  6.15612361e-01  3.56381749e-01]\n",
            " [ 9.37719827e-01 -1.19254753e-01  6.71396005e-01  6.13068282e-01]\n",
            " [-1.02212490e+00 -1.19254753e-01 -1.22524790e+00 -1.31208072e+00]\n",
            " [-4.45699984e-01 -1.50096499e+00 -5.37913713e-02 -2.85334584e-01]\n",
            " [ 9.37719827e-01  1.11030287e-01  1.00609787e+00  1.51147115e+00]\n",
            " [-9.98450310e-02 -8.10109874e-01  7.27179649e-01  8.69754815e-01]\n",
            " [-9.06839920e-01  8.01885408e-01 -1.28103155e+00 -1.31208072e+00]\n",
            " [ 8.22434843e-01 -3.49539793e-01  4.48261428e-01  9.96952160e-02]\n",
            " [-3.30414999e-01 -1.19254753e-01  1.69343206e-01  9.96952160e-02]\n",
            " [ 1.54399532e-02  3.41315328e-01  5.59828716e-01  7.41411549e-01]\n",
            " [ 4.76579890e-01 -1.73125004e+00  3.36694139e-01  9.96952160e-02]\n",
            " [-4.45699984e-01  1.03217045e+00 -1.39259884e+00 -1.31208072e+00]\n",
            " [-9.06839920e-01  1.49274053e+00 -1.28103155e+00 -1.05539418e+00]\n",
            " [-1.13740989e+00  1.11030287e-01 -1.28103155e+00 -1.44042398e+00]\n",
            " [ 4.76579890e-01 -3.49539793e-01  1.00609787e+00  7.41411549e-01]\n",
            " [-9.98450310e-02 -8.10109874e-01  1.69343206e-01 -2.85334584e-01]\n",
            " [ 2.09056967e+00  1.72302557e+00  1.61971796e+00  1.25478461e+00]\n",
            " [-1.48326484e+00  3.41315328e-01 -1.33681519e+00 -1.31208072e+00]]\n"
          ],
          "name": "stdout"
        }
      ]
    },
    {
      "cell_type": "code",
      "metadata": {
        "colab": {
          "base_uri": "https://localhost:8080/"
        },
        "id": "_KF4_-gUstay",
        "outputId": "6a32e877-4599-446a-f711-eaefafb3ca54"
      },
      "source": [
        "print(X_test)"
      ],
      "execution_count": 8,
      "outputs": [
        {
          "output_type": "stream",
          "text": [
            "[[-0.09984503 -0.57982483  0.72717965  1.51147115]\n",
            " [ 0.13072494 -1.96153508  0.11355956 -0.28533458]\n",
            " [-0.44569998  2.64416573 -1.33681519 -1.31208072]\n",
            " [ 1.62942973 -0.34953979  1.39658338  0.74141155]\n",
            " [-1.0221249   0.80188541 -1.28103155 -1.31208072]\n",
            " [ 0.47657989  0.57160037  1.22923245  1.63981441]\n",
            " [-1.0221249   1.03217045 -1.39259884 -1.18373745]\n",
            " [ 0.93771983  0.11103029  0.50404507  0.35638175]\n",
            " [ 1.05300481 -0.57982483  0.55982872  0.22803848]\n",
            " [ 0.24600992 -0.57982483  0.11355956  0.09969522]\n",
            " [ 0.24600992 -1.04039491  1.00609787  0.22803848]\n",
            " [ 0.59186487  0.34131533  0.39247778  0.35638175]\n",
            " [ 0.24600992 -0.57982483  0.50404507 -0.02864805]\n",
            " [ 0.70714986 -0.57982483  0.44826143  0.35638175]\n",
            " [ 0.24600992 -0.34953979  0.50404507  0.22803848]\n",
            " [-1.13740989  0.11103029 -1.28103155 -1.44042398]\n",
            " [ 0.13072494 -0.34953979  0.39247778  0.35638175]\n",
            " [-0.44569998 -1.04039491  0.33669414 -0.02864805]\n",
            " [-1.25269487 -0.11925475 -1.33681519 -1.18373745]\n",
            " [-0.56098497  1.95331061 -1.39259884 -1.05539418]\n",
            " [-0.330415   -0.57982483  0.61561236  0.99809808]\n",
            " [-0.330415   -0.11925475  0.39247778  0.35638175]\n",
            " [-1.25269487  0.80188541 -1.05789697 -1.31208072]\n",
            " [-1.71383481 -0.34953979 -1.33681519 -1.31208072]\n",
            " [ 0.36129491 -0.57982483  0.55982872  0.74141155]\n",
            " [-1.48326484  1.26245549 -1.55994977 -1.31208072]\n",
            " [-0.90683992  1.72302557 -1.05789697 -1.05539418]\n",
            " [ 0.36129491 -0.34953979  0.28091049  0.09969522]\n",
            " [-1.0221249  -1.73125004 -0.27692595 -0.28533458]\n",
            " [-1.0221249   0.80188541 -1.2252479  -1.05539418]\n",
            " [ 0.59186487  0.11103029  0.95031423  0.74141155]\n",
            " [-0.56098497 -0.11925475  0.39247778  0.35638175]\n",
            " [-0.79155494  1.03217045 -1.28103155 -1.31208072]\n",
            " [ 0.24600992 -0.11925475  0.61561236  0.74141155]\n",
            " [ 0.59186487 -0.57982483  1.00609787  1.25478461]\n",
            " [-0.79155494 -0.81010987  0.05777592  0.22803848]\n",
            " [-0.21513002  1.72302557 -1.16946426 -1.18373745]\n",
            " [ 0.13072494 -0.81010987  0.72717965  0.48472502]]\n"
          ],
          "name": "stdout"
        }
      ]
    },
    {
      "cell_type": "markdown",
      "metadata": {
        "id": "P4eP-oBSs2WP"
      },
      "source": [
        "#Training the Decision Tree Classification model on the Training set"
      ]
    },
    {
      "cell_type": "code",
      "metadata": {
        "colab": {
          "base_uri": "https://localhost:8080/"
        },
        "id": "Je3eNbEis5pX",
        "outputId": "3d4b3098-3fe9-48a6-e264-b3bcc9651114"
      },
      "source": [
        "from sklearn.tree import DecisionTreeClassifier\r\n",
        "classifier = DecisionTreeClassifier(criterion = 'entropy')\r\n",
        "classifier.fit(X_train, y_train)"
      ],
      "execution_count": 9,
      "outputs": [
        {
          "output_type": "execute_result",
          "data": {
            "text/plain": [
              "DecisionTreeClassifier(ccp_alpha=0.0, class_weight=None, criterion='entropy',\n",
              "                       max_depth=None, max_features=None, max_leaf_nodes=None,\n",
              "                       min_impurity_decrease=0.0, min_impurity_split=None,\n",
              "                       min_samples_leaf=1, min_samples_split=2,\n",
              "                       min_weight_fraction_leaf=0.0, presort='deprecated',\n",
              "                       random_state=None, splitter='best')"
            ]
          },
          "metadata": {
            "tags": []
          },
          "execution_count": 9
        }
      ]
    },
    {
      "cell_type": "markdown",
      "metadata": {
        "id": "a3zu0HvatBtJ"
      },
      "source": [
        "#Predicting the Test set results"
      ]
    },
    {
      "cell_type": "code",
      "metadata": {
        "colab": {
          "base_uri": "https://localhost:8080/"
        },
        "id": "_NTJiZRjs-Ys",
        "outputId": "ee1062bb-e6c4-4ecd-f107-df59f5b725f5"
      },
      "source": [
        "y_pred = classifier.predict(X_test)\r\n",
        "print(np.concatenate((y_pred.reshape(len(y_pred),1), y_test.reshape(len(y_test),1)),1))"
      ],
      "execution_count": 10,
      "outputs": [
        {
          "output_type": "stream",
          "text": [
            "[[2 2]\n",
            " [1 1]\n",
            " [0 0]\n",
            " [2 2]\n",
            " [0 0]\n",
            " [2 2]\n",
            " [0 0]\n",
            " [1 1]\n",
            " [1 1]\n",
            " [1 1]\n",
            " [2 2]\n",
            " [1 1]\n",
            " [1 1]\n",
            " [1 1]\n",
            " [1 1]\n",
            " [0 0]\n",
            " [1 1]\n",
            " [1 1]\n",
            " [0 0]\n",
            " [0 0]\n",
            " [2 2]\n",
            " [1 1]\n",
            " [0 0]\n",
            " [0 0]\n",
            " [2 2]\n",
            " [0 0]\n",
            " [0 0]\n",
            " [1 1]\n",
            " [1 1]\n",
            " [0 0]\n",
            " [2 2]\n",
            " [1 1]\n",
            " [0 0]\n",
            " [2 2]\n",
            " [2 2]\n",
            " [1 1]\n",
            " [0 0]\n",
            " [2 1]]\n"
          ],
          "name": "stdout"
        }
      ]
    },
    {
      "cell_type": "markdown",
      "metadata": {
        "id": "ojfmsXhdtHJv"
      },
      "source": [
        "#Making the Confusion Matrix"
      ]
    },
    {
      "cell_type": "code",
      "metadata": {
        "colab": {
          "base_uri": "https://localhost:8080/"
        },
        "id": "Gww06VfAtLMJ",
        "outputId": "90c744a8-f3ad-4ef6-9e4e-4a090633fa45"
      },
      "source": [
        "from sklearn.metrics import confusion_matrix, accuracy_score\r\n",
        "cm = confusion_matrix(y_test, y_pred)\r\n",
        "print(cm)\r\n",
        "accuracy_score(y_test, y_pred)"
      ],
      "execution_count": 11,
      "outputs": [
        {
          "output_type": "stream",
          "text": [
            "[[13  0  0]\n",
            " [ 0 15  1]\n",
            " [ 0  0  9]]\n"
          ],
          "name": "stdout"
        },
        {
          "output_type": "execute_result",
          "data": {
            "text/plain": [
              "0.9736842105263158"
            ]
          },
          "metadata": {
            "tags": []
          },
          "execution_count": 11
        }
      ]
    },
    {
      "cell_type": "markdown",
      "metadata": {
        "id": "sXuY4AqY7CGu"
      },
      "source": [
        "#Visulalization of Decision Tree"
      ]
    },
    {
      "cell_type": "markdown",
      "metadata": {
        "id": "U7WxDFlPBhr2"
      },
      "source": [
        "To get the column headings"
      ]
    },
    {
      "cell_type": "code",
      "metadata": {
        "colab": {
          "base_uri": "https://localhost:8080/"
        },
        "id": "zE17H0CR-Xq8",
        "outputId": "3c47e510-fe71-4a8a-ba7a-85cc0ce74362"
      },
      "source": [
        "dataset.columns"
      ],
      "execution_count": 12,
      "outputs": [
        {
          "output_type": "execute_result",
          "data": {
            "text/plain": [
              "Index(['Id', 'SepalLengthCm', 'SepalWidthCm', 'PetalLengthCm', 'PetalWidthCm',\n",
              "       'Species'],\n",
              "      dtype='object')"
            ]
          },
          "metadata": {
            "tags": []
          },
          "execution_count": 12
        }
      ]
    },
    {
      "cell_type": "markdown",
      "metadata": {
        "id": "ITJmgcxXBpTE"
      },
      "source": [
        "Storing the dataaset to dataset1 so as to not make any changes in the real dataset"
      ]
    },
    {
      "cell_type": "code",
      "metadata": {
        "colab": {
          "base_uri": "https://localhost:8080/",
          "height": 402
        },
        "id": "49e-k-n3-b1i",
        "outputId": "264787b7-640b-4e30-c6fe-785de26f9492"
      },
      "source": [
        "dataset1 = dataset\r\n",
        "dataset1=dataset1.drop(columns='Id')\r\n",
        "dataset1=dataset1.drop(columns='Species')\r\n",
        "dataset1"
      ],
      "execution_count": 13,
      "outputs": [
        {
          "output_type": "execute_result",
          "data": {
            "text/html": [
              "<div>\n",
              "<style scoped>\n",
              "    .dataframe tbody tr th:only-of-type {\n",
              "        vertical-align: middle;\n",
              "    }\n",
              "\n",
              "    .dataframe tbody tr th {\n",
              "        vertical-align: top;\n",
              "    }\n",
              "\n",
              "    .dataframe thead th {\n",
              "        text-align: right;\n",
              "    }\n",
              "</style>\n",
              "<table border=\"1\" class=\"dataframe\">\n",
              "  <thead>\n",
              "    <tr style=\"text-align: right;\">\n",
              "      <th></th>\n",
              "      <th>SepalLengthCm</th>\n",
              "      <th>SepalWidthCm</th>\n",
              "      <th>PetalLengthCm</th>\n",
              "      <th>PetalWidthCm</th>\n",
              "    </tr>\n",
              "  </thead>\n",
              "  <tbody>\n",
              "    <tr>\n",
              "      <th>0</th>\n",
              "      <td>5.1</td>\n",
              "      <td>3.5</td>\n",
              "      <td>1.4</td>\n",
              "      <td>0.2</td>\n",
              "    </tr>\n",
              "    <tr>\n",
              "      <th>1</th>\n",
              "      <td>4.9</td>\n",
              "      <td>3.0</td>\n",
              "      <td>1.4</td>\n",
              "      <td>0.2</td>\n",
              "    </tr>\n",
              "    <tr>\n",
              "      <th>2</th>\n",
              "      <td>4.7</td>\n",
              "      <td>3.2</td>\n",
              "      <td>1.3</td>\n",
              "      <td>0.2</td>\n",
              "    </tr>\n",
              "    <tr>\n",
              "      <th>3</th>\n",
              "      <td>4.6</td>\n",
              "      <td>3.1</td>\n",
              "      <td>1.5</td>\n",
              "      <td>0.2</td>\n",
              "    </tr>\n",
              "    <tr>\n",
              "      <th>4</th>\n",
              "      <td>5.0</td>\n",
              "      <td>3.6</td>\n",
              "      <td>1.4</td>\n",
              "      <td>0.2</td>\n",
              "    </tr>\n",
              "    <tr>\n",
              "      <th>...</th>\n",
              "      <td>...</td>\n",
              "      <td>...</td>\n",
              "      <td>...</td>\n",
              "      <td>...</td>\n",
              "    </tr>\n",
              "    <tr>\n",
              "      <th>145</th>\n",
              "      <td>6.7</td>\n",
              "      <td>3.0</td>\n",
              "      <td>5.2</td>\n",
              "      <td>2.3</td>\n",
              "    </tr>\n",
              "    <tr>\n",
              "      <th>146</th>\n",
              "      <td>6.3</td>\n",
              "      <td>2.5</td>\n",
              "      <td>5.0</td>\n",
              "      <td>1.9</td>\n",
              "    </tr>\n",
              "    <tr>\n",
              "      <th>147</th>\n",
              "      <td>6.5</td>\n",
              "      <td>3.0</td>\n",
              "      <td>5.2</td>\n",
              "      <td>2.0</td>\n",
              "    </tr>\n",
              "    <tr>\n",
              "      <th>148</th>\n",
              "      <td>6.2</td>\n",
              "      <td>3.4</td>\n",
              "      <td>5.4</td>\n",
              "      <td>2.3</td>\n",
              "    </tr>\n",
              "    <tr>\n",
              "      <th>149</th>\n",
              "      <td>5.9</td>\n",
              "      <td>3.0</td>\n",
              "      <td>5.1</td>\n",
              "      <td>1.8</td>\n",
              "    </tr>\n",
              "  </tbody>\n",
              "</table>\n",
              "<p>150 rows × 4 columns</p>\n",
              "</div>"
            ],
            "text/plain": [
              "     SepalLengthCm  SepalWidthCm  PetalLengthCm  PetalWidthCm\n",
              "0              5.1           3.5            1.4           0.2\n",
              "1              4.9           3.0            1.4           0.2\n",
              "2              4.7           3.2            1.3           0.2\n",
              "3              4.6           3.1            1.5           0.2\n",
              "4              5.0           3.6            1.4           0.2\n",
              "..             ...           ...            ...           ...\n",
              "145            6.7           3.0            5.2           2.3\n",
              "146            6.3           2.5            5.0           1.9\n",
              "147            6.5           3.0            5.2           2.0\n",
              "148            6.2           3.4            5.4           2.3\n",
              "149            5.9           3.0            5.1           1.8\n",
              "\n",
              "[150 rows x 4 columns]"
            ]
          },
          "metadata": {
            "tags": []
          },
          "execution_count": 13
        }
      ]
    },
    {
      "cell_type": "markdown",
      "metadata": {
        "id": "QhTK0Y05B1sQ"
      },
      "source": [
        "Extracting the column names"
      ]
    },
    {
      "cell_type": "code",
      "metadata": {
        "colab": {
          "base_uri": "https://localhost:8080/"
        },
        "id": "KUwAuli4-gdW",
        "outputId": "84555d7b-4001-4d17-a272-4a9750bc80a9"
      },
      "source": [
        "feature_name=dataset1.columns\r\n",
        "feature_name"
      ],
      "execution_count": 14,
      "outputs": [
        {
          "output_type": "execute_result",
          "data": {
            "text/plain": [
              "Index(['SepalLengthCm', 'SepalWidthCm', 'PetalLengthCm', 'PetalWidthCm'], dtype='object')"
            ]
          },
          "metadata": {
            "tags": []
          },
          "execution_count": 14
        }
      ]
    },
    {
      "cell_type": "code",
      "metadata": {
        "id": "r1b6cpwL8dSu"
      },
      "source": [
        "clf = tree.DecisionTreeClassifier()\r\n",
        "clf = clf.fit(X, y)"
      ],
      "execution_count": 15,
      "outputs": []
    },
    {
      "cell_type": "markdown",
      "metadata": {
        "id": "I_bNdHPUCa3B"
      },
      "source": [
        "Making of the graph"
      ]
    },
    {
      "cell_type": "code",
      "metadata": {
        "colab": {
          "base_uri": "https://localhost:8080/",
          "height": 796
        },
        "id": "6OD7pxAr8vbe",
        "outputId": "bab5497b-795a-4fe6-e6f9-894ff264f9fa"
      },
      "source": [
        "import graphviz\r\n",
        "dot_data = tree.export_graphviz(clf, out_file=None,feature_names=feature_name,\r\n",
        "                                filled=True, rounded=True,special_characters=True)  \r\n",
        "graph = graphviz.Source(dot_data)\r\n",
        "graph"
      ],
      "execution_count": 16,
      "outputs": [
        {
          "output_type": "execute_result",
          "data": {
            "text/plain": [
              "<graphviz.files.Source at 0x7f4f54f9aef0>"
            ],
            "image/svg+xml": "<?xml version=\"1.0\" encoding=\"UTF-8\" standalone=\"no\"?>\n<!DOCTYPE svg PUBLIC \"-//W3C//DTD SVG 1.1//EN\"\n \"http://www.w3.org/Graphics/SVG/1.1/DTD/svg11.dtd\">\n<!-- Generated by graphviz version 2.40.1 (20161225.0304)\n -->\n<!-- Title: Tree Pages: 1 -->\n<svg width=\"871pt\" height=\"581pt\"\n viewBox=\"0.00 0.00 871.00 581.00\" xmlns=\"http://www.w3.org/2000/svg\" xmlns:xlink=\"http://www.w3.org/1999/xlink\">\n<g id=\"graph0\" class=\"graph\" transform=\"scale(1 1) rotate(0) translate(4 577)\">\n<title>Tree</title>\n<polygon fill=\"#ffffff\" stroke=\"transparent\" points=\"-4,4 -4,-577 867,-577 867,4 -4,4\"/>\n<!-- 0 -->\n<g id=\"node1\" class=\"node\">\n<title>0</title>\n<path fill=\"#ffffff\" stroke=\"#000000\" d=\"M523,-573C523,-573 386,-573 386,-573 380,-573 374,-567 374,-561 374,-561 374,-517 374,-517 374,-511 380,-505 386,-505 386,-505 523,-505 523,-505 529,-505 535,-511 535,-517 535,-517 535,-561 535,-561 535,-567 529,-573 523,-573\"/>\n<text text-anchor=\"start\" x=\"382\" y=\"-557.8\" font-family=\"Helvetica,sans-Serif\" font-size=\"14.00\" fill=\"#000000\">PetalLengthCm ≤ 2.45</text>\n<text text-anchor=\"start\" x=\"416.5\" y=\"-542.8\" font-family=\"Helvetica,sans-Serif\" font-size=\"14.00\" fill=\"#000000\">gini = 0.667</text>\n<text text-anchor=\"start\" x=\"406.5\" y=\"-527.8\" font-family=\"Helvetica,sans-Serif\" font-size=\"14.00\" fill=\"#000000\">samples = 150</text>\n<text text-anchor=\"start\" x=\"392.5\" y=\"-512.8\" font-family=\"Helvetica,sans-Serif\" font-size=\"14.00\" fill=\"#000000\">value = [50, 50, 50]</text>\n</g>\n<!-- 1 -->\n<g id=\"node2\" class=\"node\">\n<title>1</title>\n<path fill=\"#e58139\" stroke=\"#000000\" d=\"M426,-461.5C426,-461.5 327,-461.5 327,-461.5 321,-461.5 315,-455.5 315,-449.5 315,-449.5 315,-420.5 315,-420.5 315,-414.5 321,-408.5 327,-408.5 327,-408.5 426,-408.5 426,-408.5 432,-408.5 438,-414.5 438,-420.5 438,-420.5 438,-449.5 438,-449.5 438,-455.5 432,-461.5 426,-461.5\"/>\n<text text-anchor=\"start\" x=\"347\" y=\"-446.3\" font-family=\"Helvetica,sans-Serif\" font-size=\"14.00\" fill=\"#000000\">gini = 0.0</text>\n<text text-anchor=\"start\" x=\"332.5\" y=\"-431.3\" font-family=\"Helvetica,sans-Serif\" font-size=\"14.00\" fill=\"#000000\">samples = 50</text>\n<text text-anchor=\"start\" x=\"323\" y=\"-416.3\" font-family=\"Helvetica,sans-Serif\" font-size=\"14.00\" fill=\"#000000\">value = [50, 0, 0]</text>\n</g>\n<!-- 0&#45;&gt;1 -->\n<g id=\"edge1\" class=\"edge\">\n<title>0&#45;&gt;1</title>\n<path fill=\"none\" stroke=\"#000000\" d=\"M428.9599,-504.9465C420.4509,-493.6012 410.9675,-480.9567 402.4293,-469.5724\"/>\n<polygon fill=\"#000000\" stroke=\"#000000\" points=\"405.2067,-467.4422 396.4066,-461.5422 399.6067,-471.6422 405.2067,-467.4422\"/>\n<text text-anchor=\"middle\" x=\"392.8711\" y=\"-482.5909\" font-family=\"Helvetica,sans-Serif\" font-size=\"14.00\" fill=\"#000000\">True</text>\n</g>\n<!-- 2 -->\n<g id=\"node3\" class=\"node\">\n<title>2</title>\n<path fill=\"#ffffff\" stroke=\"#000000\" d=\"M596.5,-469C596.5,-469 468.5,-469 468.5,-469 462.5,-469 456.5,-463 456.5,-457 456.5,-457 456.5,-413 456.5,-413 456.5,-407 462.5,-401 468.5,-401 468.5,-401 596.5,-401 596.5,-401 602.5,-401 608.5,-407 608.5,-413 608.5,-413 608.5,-457 608.5,-457 608.5,-463 602.5,-469 596.5,-469\"/>\n<text text-anchor=\"start\" x=\"464.5\" y=\"-453.8\" font-family=\"Helvetica,sans-Serif\" font-size=\"14.00\" fill=\"#000000\">PetalWidthCm ≤ 1.75</text>\n<text text-anchor=\"start\" x=\"503\" y=\"-438.8\" font-family=\"Helvetica,sans-Serif\" font-size=\"14.00\" fill=\"#000000\">gini = 0.5</text>\n<text text-anchor=\"start\" x=\"484.5\" y=\"-423.8\" font-family=\"Helvetica,sans-Serif\" font-size=\"14.00\" fill=\"#000000\">samples = 100</text>\n<text text-anchor=\"start\" x=\"475\" y=\"-408.8\" font-family=\"Helvetica,sans-Serif\" font-size=\"14.00\" fill=\"#000000\">value = [0, 50, 50]</text>\n</g>\n<!-- 0&#45;&gt;2 -->\n<g id=\"edge2\" class=\"edge\">\n<title>0&#45;&gt;2</title>\n<path fill=\"none\" stroke=\"#000000\" d=\"M480.0401,-504.9465C486.6393,-496.1475 493.8246,-486.5672 500.7005,-477.3993\"/>\n<polygon fill=\"#000000\" stroke=\"#000000\" points=\"503.7025,-479.23 506.9025,-469.13 498.1025,-475.03 503.7025,-479.23\"/>\n<text text-anchor=\"middle\" x=\"510.438\" y=\"-490.1787\" font-family=\"Helvetica,sans-Serif\" font-size=\"14.00\" fill=\"#000000\">False</text>\n</g>\n<!-- 3 -->\n<g id=\"node4\" class=\"node\">\n<title>3</title>\n<path fill=\"#4de88e\" stroke=\"#000000\" d=\"M487,-365C487,-365 350,-365 350,-365 344,-365 338,-359 338,-353 338,-353 338,-309 338,-309 338,-303 344,-297 350,-297 350,-297 487,-297 487,-297 493,-297 499,-303 499,-309 499,-309 499,-353 499,-353 499,-359 493,-365 487,-365\"/>\n<text text-anchor=\"start\" x=\"346\" y=\"-349.8\" font-family=\"Helvetica,sans-Serif\" font-size=\"14.00\" fill=\"#000000\">PetalLengthCm ≤ 4.95</text>\n<text text-anchor=\"start\" x=\"380.5\" y=\"-334.8\" font-family=\"Helvetica,sans-Serif\" font-size=\"14.00\" fill=\"#000000\">gini = 0.168</text>\n<text text-anchor=\"start\" x=\"374.5\" y=\"-319.8\" font-family=\"Helvetica,sans-Serif\" font-size=\"14.00\" fill=\"#000000\">samples = 54</text>\n<text text-anchor=\"start\" x=\"365\" y=\"-304.8\" font-family=\"Helvetica,sans-Serif\" font-size=\"14.00\" fill=\"#000000\">value = [0, 49, 5]</text>\n</g>\n<!-- 2&#45;&gt;3 -->\n<g id=\"edge3\" class=\"edge\">\n<title>2&#45;&gt;3</title>\n<path fill=\"none\" stroke=\"#000000\" d=\"M495.1721,-400.9465C485.035,-391.6986 473.9517,-381.5876 463.4417,-371.9994\"/>\n<polygon fill=\"#000000\" stroke=\"#000000\" points=\"465.6583,-369.284 455.9117,-365.13 460.9405,-374.4553 465.6583,-369.284\"/>\n</g>\n<!-- 12 -->\n<g id=\"node13\" class=\"node\">\n<title>12</title>\n<path fill=\"#843de6\" stroke=\"#000000\" d=\"M716,-365C716,-365 579,-365 579,-365 573,-365 567,-359 567,-353 567,-353 567,-309 567,-309 567,-303 573,-297 579,-297 579,-297 716,-297 716,-297 722,-297 728,-303 728,-309 728,-309 728,-353 728,-353 728,-359 722,-365 716,-365\"/>\n<text text-anchor=\"start\" x=\"575\" y=\"-349.8\" font-family=\"Helvetica,sans-Serif\" font-size=\"14.00\" fill=\"#000000\">PetalLengthCm ≤ 4.85</text>\n<text text-anchor=\"start\" x=\"609.5\" y=\"-334.8\" font-family=\"Helvetica,sans-Serif\" font-size=\"14.00\" fill=\"#000000\">gini = 0.043</text>\n<text text-anchor=\"start\" x=\"603.5\" y=\"-319.8\" font-family=\"Helvetica,sans-Serif\" font-size=\"14.00\" fill=\"#000000\">samples = 46</text>\n<text text-anchor=\"start\" x=\"594\" y=\"-304.8\" font-family=\"Helvetica,sans-Serif\" font-size=\"14.00\" fill=\"#000000\">value = [0, 1, 45]</text>\n</g>\n<!-- 2&#45;&gt;12 -->\n<g id=\"edge12\" class=\"edge\">\n<title>2&#45;&gt;12</title>\n<path fill=\"none\" stroke=\"#000000\" d=\"M570.1553,-400.9465C580.3813,-391.6986 591.5618,-381.5876 602.1641,-371.9994\"/>\n<polygon fill=\"#000000\" stroke=\"#000000\" points=\"604.6908,-374.4334 609.7601,-365.13 599.9956,-369.2416 604.6908,-374.4334\"/>\n</g>\n<!-- 4 -->\n<g id=\"node5\" class=\"node\">\n<title>4</title>\n<path fill=\"#3de684\" stroke=\"#000000\" d=\"M262.5,-261C262.5,-261 134.5,-261 134.5,-261 128.5,-261 122.5,-255 122.5,-249 122.5,-249 122.5,-205 122.5,-205 122.5,-199 128.5,-193 134.5,-193 134.5,-193 262.5,-193 262.5,-193 268.5,-193 274.5,-199 274.5,-205 274.5,-205 274.5,-249 274.5,-249 274.5,-255 268.5,-261 262.5,-261\"/>\n<text text-anchor=\"start\" x=\"130.5\" y=\"-245.8\" font-family=\"Helvetica,sans-Serif\" font-size=\"14.00\" fill=\"#000000\">PetalWidthCm ≤ 1.65</text>\n<text text-anchor=\"start\" x=\"160.5\" y=\"-230.8\" font-family=\"Helvetica,sans-Serif\" font-size=\"14.00\" fill=\"#000000\">gini = 0.041</text>\n<text text-anchor=\"start\" x=\"154.5\" y=\"-215.8\" font-family=\"Helvetica,sans-Serif\" font-size=\"14.00\" fill=\"#000000\">samples = 48</text>\n<text text-anchor=\"start\" x=\"145\" y=\"-200.8\" font-family=\"Helvetica,sans-Serif\" font-size=\"14.00\" fill=\"#000000\">value = [0, 47, 1]</text>\n</g>\n<!-- 3&#45;&gt;4 -->\n<g id=\"edge4\" class=\"edge\">\n<title>3&#45;&gt;4</title>\n<path fill=\"none\" stroke=\"#000000\" d=\"M346.4638,-296.9465C325.1916,-286.8906 301.7604,-275.814 279.94,-265.4989\"/>\n<polygon fill=\"#000000\" stroke=\"#000000\" points=\"281.2346,-262.2396 270.6981,-261.13 278.243,-268.5681 281.2346,-262.2396\"/>\n</g>\n<!-- 7 -->\n<g id=\"node8\" class=\"node\">\n<title>7</title>\n<path fill=\"#c09cf2\" stroke=\"#000000\" d=\"M482.5,-261C482.5,-261 354.5,-261 354.5,-261 348.5,-261 342.5,-255 342.5,-249 342.5,-249 342.5,-205 342.5,-205 342.5,-199 348.5,-193 354.5,-193 354.5,-193 482.5,-193 482.5,-193 488.5,-193 494.5,-199 494.5,-205 494.5,-205 494.5,-249 494.5,-249 494.5,-255 488.5,-261 482.5,-261\"/>\n<text text-anchor=\"start\" x=\"350.5\" y=\"-245.8\" font-family=\"Helvetica,sans-Serif\" font-size=\"14.00\" fill=\"#000000\">PetalWidthCm ≤ 1.55</text>\n<text text-anchor=\"start\" x=\"380.5\" y=\"-230.8\" font-family=\"Helvetica,sans-Serif\" font-size=\"14.00\" fill=\"#000000\">gini = 0.444</text>\n<text text-anchor=\"start\" x=\"379\" y=\"-215.8\" font-family=\"Helvetica,sans-Serif\" font-size=\"14.00\" fill=\"#000000\">samples = 6</text>\n<text text-anchor=\"start\" x=\"369\" y=\"-200.8\" font-family=\"Helvetica,sans-Serif\" font-size=\"14.00\" fill=\"#000000\">value = [0, 2, 4]</text>\n</g>\n<!-- 3&#45;&gt;7 -->\n<g id=\"edge7\" class=\"edge\">\n<title>3&#45;&gt;7</title>\n<path fill=\"none\" stroke=\"#000000\" d=\"M418.5,-296.9465C418.5,-288.776 418.5,-279.9318 418.5,-271.3697\"/>\n<polygon fill=\"#000000\" stroke=\"#000000\" points=\"422.0001,-271.13 418.5,-261.13 415.0001,-271.13 422.0001,-271.13\"/>\n</g>\n<!-- 5 -->\n<g id=\"node6\" class=\"node\">\n<title>5</title>\n<path fill=\"#39e581\" stroke=\"#000000\" d=\"M111,-149.5C111,-149.5 12,-149.5 12,-149.5 6,-149.5 0,-143.5 0,-137.5 0,-137.5 0,-108.5 0,-108.5 0,-102.5 6,-96.5 12,-96.5 12,-96.5 111,-96.5 111,-96.5 117,-96.5 123,-102.5 123,-108.5 123,-108.5 123,-137.5 123,-137.5 123,-143.5 117,-149.5 111,-149.5\"/>\n<text text-anchor=\"start\" x=\"32\" y=\"-134.3\" font-family=\"Helvetica,sans-Serif\" font-size=\"14.00\" fill=\"#000000\">gini = 0.0</text>\n<text text-anchor=\"start\" x=\"17.5\" y=\"-119.3\" font-family=\"Helvetica,sans-Serif\" font-size=\"14.00\" fill=\"#000000\">samples = 47</text>\n<text text-anchor=\"start\" x=\"8\" y=\"-104.3\" font-family=\"Helvetica,sans-Serif\" font-size=\"14.00\" fill=\"#000000\">value = [0, 47, 0]</text>\n</g>\n<!-- 4&#45;&gt;5 -->\n<g id=\"edge5\" class=\"edge\">\n<title>4&#45;&gt;5</title>\n<path fill=\"none\" stroke=\"#000000\" d=\"M153.6411,-192.9465C137.8252,-180.9403 120.0927,-167.4791 104.4393,-155.5962\"/>\n<polygon fill=\"#000000\" stroke=\"#000000\" points=\"106.5455,-152.8009 96.4642,-149.5422 102.3129,-158.3764 106.5455,-152.8009\"/>\n</g>\n<!-- 6 -->\n<g id=\"node7\" class=\"node\">\n<title>6</title>\n<path fill=\"#8139e5\" stroke=\"#000000\" d=\"M244,-149.5C244,-149.5 153,-149.5 153,-149.5 147,-149.5 141,-143.5 141,-137.5 141,-137.5 141,-108.5 141,-108.5 141,-102.5 147,-96.5 153,-96.5 153,-96.5 244,-96.5 244,-96.5 250,-96.5 256,-102.5 256,-108.5 256,-108.5 256,-137.5 256,-137.5 256,-143.5 250,-149.5 244,-149.5\"/>\n<text text-anchor=\"start\" x=\"169\" y=\"-134.3\" font-family=\"Helvetica,sans-Serif\" font-size=\"14.00\" fill=\"#000000\">gini = 0.0</text>\n<text text-anchor=\"start\" x=\"159\" y=\"-119.3\" font-family=\"Helvetica,sans-Serif\" font-size=\"14.00\" fill=\"#000000\">samples = 1</text>\n<text text-anchor=\"start\" x=\"149\" y=\"-104.3\" font-family=\"Helvetica,sans-Serif\" font-size=\"14.00\" fill=\"#000000\">value = [0, 0, 1]</text>\n</g>\n<!-- 4&#45;&gt;6 -->\n<g id=\"edge6\" class=\"edge\">\n<title>4&#45;&gt;6</title>\n<path fill=\"none\" stroke=\"#000000\" d=\"M198.5,-192.9465C198.5,-182.2621 198.5,-170.4254 198.5,-159.5742\"/>\n<polygon fill=\"#000000\" stroke=\"#000000\" points=\"202.0001,-159.5421 198.5,-149.5422 195.0001,-159.5422 202.0001,-159.5421\"/>\n</g>\n<!-- 8 -->\n<g id=\"node9\" class=\"node\">\n<title>8</title>\n<path fill=\"#8139e5\" stroke=\"#000000\" d=\"M377,-149.5C377,-149.5 286,-149.5 286,-149.5 280,-149.5 274,-143.5 274,-137.5 274,-137.5 274,-108.5 274,-108.5 274,-102.5 280,-96.5 286,-96.5 286,-96.5 377,-96.5 377,-96.5 383,-96.5 389,-102.5 389,-108.5 389,-108.5 389,-137.5 389,-137.5 389,-143.5 383,-149.5 377,-149.5\"/>\n<text text-anchor=\"start\" x=\"302\" y=\"-134.3\" font-family=\"Helvetica,sans-Serif\" font-size=\"14.00\" fill=\"#000000\">gini = 0.0</text>\n<text text-anchor=\"start\" x=\"292\" y=\"-119.3\" font-family=\"Helvetica,sans-Serif\" font-size=\"14.00\" fill=\"#000000\">samples = 3</text>\n<text text-anchor=\"start\" x=\"282\" y=\"-104.3\" font-family=\"Helvetica,sans-Serif\" font-size=\"14.00\" fill=\"#000000\">value = [0, 0, 3]</text>\n</g>\n<!-- 7&#45;&gt;8 -->\n<g id=\"edge8\" class=\"edge\">\n<title>7&#45;&gt;8</title>\n<path fill=\"none\" stroke=\"#000000\" d=\"M390.0129,-192.9465C380.43,-181.491 369.739,-168.711 360.1441,-157.2412\"/>\n<polygon fill=\"#000000\" stroke=\"#000000\" points=\"362.8045,-154.9666 353.7035,-149.5422 357.4354,-159.458 362.8045,-154.9666\"/>\n</g>\n<!-- 9 -->\n<g id=\"node10\" class=\"node\">\n<title>9</title>\n<path fill=\"#9cf2c0\" stroke=\"#000000\" d=\"M560,-157C560,-157 419,-157 419,-157 413,-157 407,-151 407,-145 407,-145 407,-101 407,-101 407,-95 413,-89 419,-89 419,-89 560,-89 560,-89 566,-89 572,-95 572,-101 572,-101 572,-145 572,-145 572,-151 566,-157 560,-157\"/>\n<text text-anchor=\"start\" x=\"415\" y=\"-141.8\" font-family=\"Helvetica,sans-Serif\" font-size=\"14.00\" fill=\"#000000\">SepalLengthCm ≤ 6.95</text>\n<text text-anchor=\"start\" x=\"451.5\" y=\"-126.8\" font-family=\"Helvetica,sans-Serif\" font-size=\"14.00\" fill=\"#000000\">gini = 0.444</text>\n<text text-anchor=\"start\" x=\"450\" y=\"-111.8\" font-family=\"Helvetica,sans-Serif\" font-size=\"14.00\" fill=\"#000000\">samples = 3</text>\n<text text-anchor=\"start\" x=\"440\" y=\"-96.8\" font-family=\"Helvetica,sans-Serif\" font-size=\"14.00\" fill=\"#000000\">value = [0, 2, 1]</text>\n</g>\n<!-- 7&#45;&gt;9 -->\n<g id=\"edge9\" class=\"edge\">\n<title>7&#45;&gt;9</title>\n<path fill=\"none\" stroke=\"#000000\" d=\"M441.7481,-192.9465C447.755,-184.1475 454.2955,-174.5672 460.5543,-165.3993\"/>\n<polygon fill=\"#000000\" stroke=\"#000000\" points=\"463.452,-167.3623 466.1997,-157.13 457.6707,-163.4155 463.452,-167.3623\"/>\n</g>\n<!-- 10 -->\n<g id=\"node11\" class=\"node\">\n<title>10</title>\n<path fill=\"#39e581\" stroke=\"#000000\" d=\"M468,-53C468,-53 377,-53 377,-53 371,-53 365,-47 365,-41 365,-41 365,-12 365,-12 365,-6 371,0 377,0 377,0 468,0 468,0 474,0 480,-6 480,-12 480,-12 480,-41 480,-41 480,-47 474,-53 468,-53\"/>\n<text text-anchor=\"start\" x=\"393\" y=\"-37.8\" font-family=\"Helvetica,sans-Serif\" font-size=\"14.00\" fill=\"#000000\">gini = 0.0</text>\n<text text-anchor=\"start\" x=\"383\" y=\"-22.8\" font-family=\"Helvetica,sans-Serif\" font-size=\"14.00\" fill=\"#000000\">samples = 2</text>\n<text text-anchor=\"start\" x=\"373\" y=\"-7.8\" font-family=\"Helvetica,sans-Serif\" font-size=\"14.00\" fill=\"#000000\">value = [0, 2, 0]</text>\n</g>\n<!-- 9&#45;&gt;10 -->\n<g id=\"edge10\" class=\"edge\">\n<title>9&#45;&gt;10</title>\n<path fill=\"none\" stroke=\"#000000\" d=\"M465.8783,-88.9777C459.7113,-80.0954 453.0539,-70.5067 446.8499,-61.5711\"/>\n<polygon fill=\"#000000\" stroke=\"#000000\" points=\"449.6497,-59.4666 441.0715,-53.2485 443.8997,-63.4589 449.6497,-59.4666\"/>\n</g>\n<!-- 11 -->\n<g id=\"node12\" class=\"node\">\n<title>11</title>\n<path fill=\"#8139e5\" stroke=\"#000000\" d=\"M601,-53C601,-53 510,-53 510,-53 504,-53 498,-47 498,-41 498,-41 498,-12 498,-12 498,-6 504,0 510,0 510,0 601,0 601,0 607,0 613,-6 613,-12 613,-12 613,-41 613,-41 613,-47 607,-53 601,-53\"/>\n<text text-anchor=\"start\" x=\"526\" y=\"-37.8\" font-family=\"Helvetica,sans-Serif\" font-size=\"14.00\" fill=\"#000000\">gini = 0.0</text>\n<text text-anchor=\"start\" x=\"516\" y=\"-22.8\" font-family=\"Helvetica,sans-Serif\" font-size=\"14.00\" fill=\"#000000\">samples = 1</text>\n<text text-anchor=\"start\" x=\"506\" y=\"-7.8\" font-family=\"Helvetica,sans-Serif\" font-size=\"14.00\" fill=\"#000000\">value = [0, 0, 1]</text>\n</g>\n<!-- 9&#45;&gt;11 -->\n<g id=\"edge11\" class=\"edge\">\n<title>9&#45;&gt;11</title>\n<path fill=\"none\" stroke=\"#000000\" d=\"M512.7691,-88.9777C518.844,-80.0954 525.4021,-70.5067 531.5135,-61.5711\"/>\n<polygon fill=\"#000000\" stroke=\"#000000\" points=\"534.4493,-63.4785 537.2057,-53.2485 528.6714,-59.5267 534.4493,-63.4785\"/>\n</g>\n<!-- 13 -->\n<g id=\"node14\" class=\"node\">\n<title>13</title>\n<path fill=\"#c09cf2\" stroke=\"#000000\" d=\"M710,-261C710,-261 585,-261 585,-261 579,-261 573,-255 573,-249 573,-249 573,-205 573,-205 573,-199 579,-193 585,-193 585,-193 710,-193 710,-193 716,-193 722,-199 722,-205 722,-205 722,-249 722,-249 722,-255 716,-261 710,-261\"/>\n<text text-anchor=\"start\" x=\"581\" y=\"-245.8\" font-family=\"Helvetica,sans-Serif\" font-size=\"14.00\" fill=\"#000000\">SepalWidthCm ≤ 3.1</text>\n<text text-anchor=\"start\" x=\"609.5\" y=\"-230.8\" font-family=\"Helvetica,sans-Serif\" font-size=\"14.00\" fill=\"#000000\">gini = 0.444</text>\n<text text-anchor=\"start\" x=\"608\" y=\"-215.8\" font-family=\"Helvetica,sans-Serif\" font-size=\"14.00\" fill=\"#000000\">samples = 3</text>\n<text text-anchor=\"start\" x=\"598\" y=\"-200.8\" font-family=\"Helvetica,sans-Serif\" font-size=\"14.00\" fill=\"#000000\">value = [0, 1, 2]</text>\n</g>\n<!-- 12&#45;&gt;13 -->\n<g id=\"edge13\" class=\"edge\">\n<title>12&#45;&gt;13</title>\n<path fill=\"none\" stroke=\"#000000\" d=\"M647.5,-296.9465C647.5,-288.776 647.5,-279.9318 647.5,-271.3697\"/>\n<polygon fill=\"#000000\" stroke=\"#000000\" points=\"651.0001,-271.13 647.5,-261.13 644.0001,-271.13 651.0001,-271.13\"/>\n</g>\n<!-- 16 -->\n<g id=\"node17\" class=\"node\">\n<title>16</title>\n<path fill=\"#8139e5\" stroke=\"#000000\" d=\"M851,-253.5C851,-253.5 752,-253.5 752,-253.5 746,-253.5 740,-247.5 740,-241.5 740,-241.5 740,-212.5 740,-212.5 740,-206.5 746,-200.5 752,-200.5 752,-200.5 851,-200.5 851,-200.5 857,-200.5 863,-206.5 863,-212.5 863,-212.5 863,-241.5 863,-241.5 863,-247.5 857,-253.5 851,-253.5\"/>\n<text text-anchor=\"start\" x=\"772\" y=\"-238.3\" font-family=\"Helvetica,sans-Serif\" font-size=\"14.00\" fill=\"#000000\">gini = 0.0</text>\n<text text-anchor=\"start\" x=\"757.5\" y=\"-223.3\" font-family=\"Helvetica,sans-Serif\" font-size=\"14.00\" fill=\"#000000\">samples = 43</text>\n<text text-anchor=\"start\" x=\"748\" y=\"-208.3\" font-family=\"Helvetica,sans-Serif\" font-size=\"14.00\" fill=\"#000000\">value = [0, 0, 43]</text>\n</g>\n<!-- 12&#45;&gt;16 -->\n<g id=\"edge16\" class=\"edge\">\n<title>12&#45;&gt;16</title>\n<path fill=\"none\" stroke=\"#000000\" d=\"M697.9254,-296.9465C715.8669,-284.8301 736.0026,-271.232 753.7162,-259.2696\"/>\n<polygon fill=\"#000000\" stroke=\"#000000\" points=\"755.8687,-262.0393 762.1972,-253.5422 751.9511,-256.2382 755.8687,-262.0393\"/>\n</g>\n<!-- 14 -->\n<g id=\"node15\" class=\"node\">\n<title>14</title>\n<path fill=\"#8139e5\" stroke=\"#000000\" d=\"M693,-149.5C693,-149.5 602,-149.5 602,-149.5 596,-149.5 590,-143.5 590,-137.5 590,-137.5 590,-108.5 590,-108.5 590,-102.5 596,-96.5 602,-96.5 602,-96.5 693,-96.5 693,-96.5 699,-96.5 705,-102.5 705,-108.5 705,-108.5 705,-137.5 705,-137.5 705,-143.5 699,-149.5 693,-149.5\"/>\n<text text-anchor=\"start\" x=\"618\" y=\"-134.3\" font-family=\"Helvetica,sans-Serif\" font-size=\"14.00\" fill=\"#000000\">gini = 0.0</text>\n<text text-anchor=\"start\" x=\"608\" y=\"-119.3\" font-family=\"Helvetica,sans-Serif\" font-size=\"14.00\" fill=\"#000000\">samples = 2</text>\n<text text-anchor=\"start\" x=\"598\" y=\"-104.3\" font-family=\"Helvetica,sans-Serif\" font-size=\"14.00\" fill=\"#000000\">value = [0, 0, 2]</text>\n</g>\n<!-- 13&#45;&gt;14 -->\n<g id=\"edge14\" class=\"edge\">\n<title>13&#45;&gt;14</title>\n<path fill=\"none\" stroke=\"#000000\" d=\"M647.5,-192.9465C647.5,-182.2621 647.5,-170.4254 647.5,-159.5742\"/>\n<polygon fill=\"#000000\" stroke=\"#000000\" points=\"651.0001,-159.5421 647.5,-149.5422 644.0001,-159.5422 651.0001,-159.5421\"/>\n</g>\n<!-- 15 -->\n<g id=\"node16\" class=\"node\">\n<title>15</title>\n<path fill=\"#39e581\" stroke=\"#000000\" d=\"M826,-149.5C826,-149.5 735,-149.5 735,-149.5 729,-149.5 723,-143.5 723,-137.5 723,-137.5 723,-108.5 723,-108.5 723,-102.5 729,-96.5 735,-96.5 735,-96.5 826,-96.5 826,-96.5 832,-96.5 838,-102.5 838,-108.5 838,-108.5 838,-137.5 838,-137.5 838,-143.5 832,-149.5 826,-149.5\"/>\n<text text-anchor=\"start\" x=\"751\" y=\"-134.3\" font-family=\"Helvetica,sans-Serif\" font-size=\"14.00\" fill=\"#000000\">gini = 0.0</text>\n<text text-anchor=\"start\" x=\"741\" y=\"-119.3\" font-family=\"Helvetica,sans-Serif\" font-size=\"14.00\" fill=\"#000000\">samples = 1</text>\n<text text-anchor=\"start\" x=\"731\" y=\"-104.3\" font-family=\"Helvetica,sans-Serif\" font-size=\"14.00\" fill=\"#000000\">value = [0, 1, 0]</text>\n</g>\n<!-- 13&#45;&gt;15 -->\n<g id=\"edge15\" class=\"edge\">\n<title>13&#45;&gt;15</title>\n<path fill=\"none\" stroke=\"#000000\" d=\"M691.0492,-192.9465C706.2625,-181.0504 723.3023,-167.726 738.3957,-155.9237\"/>\n<polygon fill=\"#000000\" stroke=\"#000000\" points=\"740.8351,-158.4592 746.5567,-149.5422 736.5231,-152.9449 740.8351,-158.4592\"/>\n</g>\n</g>\n</svg>\n"
          },
          "metadata": {
            "tags": []
          },
          "execution_count": 16
        }
      ]
    }
  ]
}